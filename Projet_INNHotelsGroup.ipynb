{
 "cells": [
  {
   "cell_type": "markdown",
   "id": "95aaee6c-5179-4e4c-bc73-100d4cb8865e",
   "metadata": {
    "id": "95aaee6c-5179-4e4c-bc73-100d4cb8865e"
   },
   "source": [
    "# Librairies"
   ]
  },
  {
   "cell_type": "code",
   "execution_count": null,
   "id": "5b869c35-52c0-482d-a244-ab3a02deee26",
   "metadata": {
    "id": "5b869c35-52c0-482d-a244-ab3a02deee26"
   },
   "outputs": [],
   "source": [
    "import pandas as pd\n",
    "import numpy as np\n",
    "import matplotlib.pyplot as plt\n",
    "import seaborn as sns\n",
    "\n",
    "import scipy.stats as st\n",
    "from scipy.stats import chi2_contingency\n",
    "from sklearn.ensemble import RandomForestClassifier\n",
    "from sklearn.metrics import classification_report\n",
    "from sklearn.model_selection import train_test_split\n",
    "from sklearn.preprocessing import OneHotEncoder, RobustScaler\n",
    "from sklearn.model_selection import GridSearchCV\n",
    "from xgboost import plot_importance"
   ]
  },
  {
   "cell_type": "markdown",
   "id": "451dc01a-fbbc-4815-a194-65e90faef77c",
   "metadata": {
    "id": "451dc01a-fbbc-4815-a194-65e90faef77c"
   },
   "source": [
    "# Aperçu Préliminaire des Données"
   ]
  },
  {
   "cell_type": "code",
   "execution_count": null,
   "id": "dfbfab67-3fa4-419f-8c34-ac509682b625",
   "metadata": {
    "colab": {
     "base_uri": "https://localhost:8080/",
     "height": 258
    },
    "id": "dfbfab67-3fa4-419f-8c34-ac509682b625",
    "outputId": "a20076a3-5f72-4d7a-b379-b41ac0a16c8b"
   },
   "outputs": [],
   "source": [
    "data = pd.read_csv(\"INNHotelsGroup.csv\")\n",
    "data = data.set_index(\"Booking_ID\")\n",
    "data.head()"
   ]
  },
  {
   "cell_type": "code",
   "execution_count": null,
   "id": "9ae56ec4-ccf2-4be2-b7e5-646936482bb0",
   "metadata": {
    "colab": {
     "base_uri": "https://localhost:8080/"
    },
    "id": "9ae56ec4-ccf2-4be2-b7e5-646936482bb0",
    "outputId": "d61bfdf1-9e0c-437b-875c-5f6606b997bf"
   },
   "outputs": [],
   "source": [
    "data.shape"
   ]
  },
  {
   "cell_type": "code",
   "execution_count": null,
   "id": "e8611d90-67bb-4061-bc94-9f6a9f1ef744",
   "metadata": {
    "colab": {
     "base_uri": "https://localhost:8080/"
    },
    "id": "e8611d90-67bb-4061-bc94-9f6a9f1ef744",
    "outputId": "5308f1c9-a551-4cae-9bfc-a9f1da3738da"
   },
   "outputs": [],
   "source": [
    "data.info()"
   ]
  },
  {
   "cell_type": "code",
   "execution_count": null,
   "id": "dc4cff66-6886-4967-8c57-0d8d553b539b",
   "metadata": {
    "id": "dc4cff66-6886-4967-8c57-0d8d553b539b"
   },
   "outputs": [],
   "source": [
    "data[[\"required_car_parking_space\", \"repeated_guest\"]] = data[[\"required_car_parking_space\", \"repeated_guest\"]].astype(\"category\")"
   ]
  },
  {
   "cell_type": "code",
   "execution_count": null,
   "id": "93e6c1be-3b26-47be-8016-c7c5f83431f2",
   "metadata": {
    "colab": {
     "base_uri": "https://localhost:8080/",
     "height": 649
    },
    "id": "93e6c1be-3b26-47be-8016-c7c5f83431f2",
    "outputId": "34f44e2d-d91b-4028-c170-fb86345c6794"
   },
   "outputs": [],
   "source": [
    "data.isnull().sum()"
   ]
  },
  {
   "cell_type": "markdown",
   "id": "138efd55-2a0b-4744-bbef-93283d29f1d4",
   "metadata": {
    "id": "138efd55-2a0b-4744-bbef-93283d29f1d4"
   },
   "source": [
    "## Aperçu de la variable \"booking_status\""
   ]
  },
  {
   "cell_type": "code",
   "execution_count": null,
   "id": "371efbdc-dfd7-4112-8fdf-7eaaa7835651",
   "metadata": {
    "colab": {
     "base_uri": "https://localhost:8080/",
     "height": 591
    },
    "id": "371efbdc-dfd7-4112-8fdf-7eaaa7835651",
    "outputId": "91c4b0c5-ee63-42f6-9aa1-ec98c355fec3"
   },
   "outputs": [],
   "source": [
    "print(data[\"booking_status\"].value_counts())\n",
    "\n",
    "plt.figure(figsize=(6,4))\n",
    "sns.countplot(x=data[\"booking_status\"], palette=\"coolwarm\")\n",
    "plt.title(\"Distribution des réservations annulées et non annulées\")\n",
    "plt.xlabel(\"Statut de la réservation\")\n",
    "plt.ylabel(\"Nombre de réservations\")\n",
    "plt.show()\n"
   ]
  },
  {
   "cell_type": "markdown",
   "id": "fa48acfa-ee2d-4a84-aefa-e420251a57a6",
   "metadata": {
    "id": "fa48acfa-ee2d-4a84-aefa-e420251a57a6"
   },
   "source": [
    "## Aperçu des variables explicatives"
   ]
  },
  {
   "cell_type": "code",
   "execution_count": null,
   "id": "70637ee6-7485-4210-8253-72816a2dea23",
   "metadata": {
    "id": "70637ee6-7485-4210-8253-72816a2dea23"
   },
   "outputs": [],
   "source": [
    "# Transformer les variables temporelles en type 'category'\n",
    "data['arrival_year'] = data['arrival_year'].astype('category')\n",
    "data['arrival_month'] = data['arrival_month'].astype('category')\n",
    "data['arrival_date'] = data['arrival_date'].astype('category')"
   ]
  },
  {
   "cell_type": "code",
   "execution_count": null,
   "id": "bfb0ddf1-1a4d-4417-b4af-d238aed28839",
   "metadata": {
    "colab": {
     "base_uri": "https://localhost:8080/"
    },
    "id": "bfb0ddf1-1a4d-4417-b4af-d238aed28839",
    "outputId": "6a93521b-6540-433a-b889-f76d553863b9"
   },
   "outputs": [],
   "source": [
    "var_num = data.select_dtypes(include=[\"int64\", \"float64\"]).columns\n",
    "var_num = [col for col in var_num ]\n",
    "var_num"
   ]
  },
  {
   "cell_type": "code",
   "execution_count": null,
   "id": "ca03f0e3-d0bd-42d2-960e-8108b581fcd0",
   "metadata": {
    "colab": {
     "base_uri": "https://localhost:8080/",
     "height": 320
    },
    "id": "ca03f0e3-d0bd-42d2-960e-8108b581fcd0",
    "outputId": "29e52888-52a5-4846-e1ff-446e88504049"
   },
   "outputs": [],
   "source": [
    "data[var_num].describe()"
   ]
  },
  {
   "cell_type": "code",
   "execution_count": null,
   "id": "cdb3a6c8-5efb-4be1-b29c-9dae9794ea37",
   "metadata": {
    "colab": {
     "base_uri": "https://localhost:8080/"
    },
    "id": "cdb3a6c8-5efb-4be1-b29c-9dae9794ea37",
    "outputId": "7392ecb7-b5ae-46c2-fb10-0ec9fc6bafbc"
   },
   "outputs": [],
   "source": [
    "var_char = data.select_dtypes(include=[\"object\", \"category\"]).columns\n",
    "var_char= [col for col in var_char ]\n",
    "var_char"
   ]
  },
  {
   "cell_type": "code",
   "execution_count": null,
   "id": "2cd550ad-ccc6-4fc1-a3db-f0f3b7d5268a",
   "metadata": {
    "colab": {
     "base_uri": "https://localhost:8080/"
    },
    "id": "2cd550ad-ccc6-4fc1-a3db-f0f3b7d5268a",
    "outputId": "01a732b7-23ff-4f08-cf84-d82d3d2b402a"
   },
   "outputs": [],
   "source": [
    "occurrences = {var: data[var].value_counts(dropna=False) for var in var_char}\n",
    "\n",
    "for var, counts in occurrences.items():\n",
    "    print(f\"Occurrences pour la variable '{var}':\")\n",
    "    print(counts)\n",
    "    print(\"-\" * 40)"
   ]
  },
  {
   "cell_type": "markdown",
   "id": "1f5078ce-1261-44cc-934e-d6d581a122ce",
   "metadata": {
    "id": "1f5078ce-1261-44cc-934e-d6d581a122ce"
   },
   "source": [
    "# Statistiques Descriptives"
   ]
  },
  {
   "cell_type": "markdown",
   "id": "7a20ddc6-7766-46b7-b629-c72cae5b3c12",
   "metadata": {
    "id": "7a20ddc6-7766-46b7-b629-c72cae5b3c12"
   },
   "source": [
    "## Analyse univarié"
   ]
  },
  {
   "cell_type": "markdown",
   "id": "53f66018-6d3c-48f4-a20a-960caa778b1e",
   "metadata": {
    "id": "53f66018-6d3c-48f4-a20a-960caa778b1e"
   },
   "source": [
    "### Analyse des variables numeriques"
   ]
  },
  {
   "cell_type": "code",
   "execution_count": null,
   "id": "bIr8ZaQb3zZY",
   "metadata": {
    "colab": {
     "base_uri": "https://localhost:8080/",
     "height": 646
    },
    "id": "bIr8ZaQb3zZY",
    "outputId": "09f44ae0-8b97-43ad-ac75-9abe9ce6a0ac"
   },
   "outputs": [],
   "source": [
    "n_cols = 3\n",
    "n_rows = (len(var_num) + n_cols - 1) // n_cols  \n",
    "\n",
    "plt.figure(figsize=(n_cols * 5, n_rows * 5))\n",
    "\n",
    "for i, col in enumerate(var_num):\n",
    "    plt.subplot(n_rows, n_cols, i + 1)\n",
    "    sns.histplot(data[col], kde=True, color='skyblue', bins=20)\n",
    "    plt.title(f'Distribution de {col}')\n",
    "    plt.xlabel(col)\n",
    "    plt.ylabel('Fréquence')\n",
    "\n",
    "plt.tight_layout()\n",
    "plt.show()"
   ]
  },
  {
   "cell_type": "code",
   "execution_count": null,
   "id": "d2534585-e8dc-4e61-9494-bce5195db09e",
   "metadata": {
    "colab": {
     "base_uri": "https://localhost:8080/",
     "height": 1000
    },
    "id": "d2534585-e8dc-4e61-9494-bce5195db09e",
    "outputId": "53d8d233-2a29-47f6-a0c3-2428d9745f8a"
   },
   "outputs": [],
   "source": [
    "n_cols = 3\n",
    "n_rows = (len(var_num) + n_cols - 1) // n_cols\n",
    "\n",
    "plt.figure(figsize=(n_cols * 5, n_rows * 5))\n",
    "\n",
    "for i, col in enumerate(var_num):\n",
    "    plt.subplot(n_rows, n_cols, i + 1)\n",
    "    sns.boxplot(y=data[col], palette='Set2')\n",
    "    plt.title(f'Distribution de {col}')\n",
    "    plt.ylabel(col)\n",
    "\n",
    "plt.tight_layout()\n",
    "\n",
    "plt.show()"
   ]
  },
  {
   "cell_type": "markdown",
   "id": "aaf48588-5c36-4e7a-afdc-0960af42ed85",
   "metadata": {
    "id": "aaf48588-5c36-4e7a-afdc-0960af42ed85",
    "jp-MarkdownHeadingCollapsed": true
   },
   "source": [
    "* **Analyse de la variable lead_time**"
   ]
  },
  {
   "cell_type": "code",
   "execution_count": null,
   "id": "f2f8f8f3-0ded-4911-8917-e89bd29cbfbd",
   "metadata": {
    "colab": {
     "base_uri": "https://localhost:8080/",
     "height": 486
    },
    "id": "f2f8f8f3-0ded-4911-8917-e89bd29cbfbd",
    "outputId": "c2c56433-cb4d-4fca-c58f-6af4d1bc8257"
   },
   "outputs": [],
   "source": [
    "def hist_box(data, var):\n",
    "    fig, (ax_box, ax_hist) = plt.subplots(nrows=2, sharex=True, gridspec_kw={\"height_ratios\": (.15, .85)})\n",
    "\n",
    "    # Boxplot\n",
    "    sns.boxplot(data=data, x=var, ax=ax_box)\n",
    "    ax_box.set(xlabel='')\n",
    "    ax_box.set_title(f\"Histogramme et Boxplot pour la variable '{var}'\", fontsize=14)\n",
    "\n",
    "    # Histogramme\n",
    "    sns.histplot(data=data, x=var, kde=True, ax=ax_hist)\n",
    "    ax_hist.set(xlabel=var, ylabel='Fréquence')\n",
    "\n",
    "    plt.tight_layout()\n",
    "    plt.show()\n",
    "\n",
    "hist_box(data, 'lead_time')\n"
   ]
  },
  {
   "cell_type": "code",
   "execution_count": null,
   "id": "4084eb1b-e953-4ac2-83c8-b049bd30780b",
   "metadata": {
    "colab": {
     "base_uri": "https://localhost:8080/"
    },
    "id": "4084eb1b-e953-4ac2-83c8-b049bd30780b",
    "outputId": "2ad516a2-36e0-4594-8aca-b6a125155655"
   },
   "outputs": [],
   "source": [
    "summary_400 = data.loc[data[\"lead_time\"] > 400, \"booking_status\"].value_counts()\n",
    "summary_300 = data.loc[data[\"lead_time\"] > 300, \"booking_status\"].value_counts()\n",
    "\n",
    "summary_df = pd.DataFrame({\n",
    "    'lead_time > 400': summary_400,\n",
    "    'lead_time > 300': summary_300\n",
    "}).fillna(0).astype(int)\n",
    "print(summary_df)"
   ]
  },
  {
   "cell_type": "markdown",
   "id": "b22d1d5a-c2a2-42c7-a036-7912dd4dff54",
   "metadata": {
    "id": "b22d1d5a-c2a2-42c7-a036-7912dd4dff54"
   },
   "source": [
    "##### **Analyse de la variable avg_price_per_room**"
   ]
  },
  {
   "cell_type": "code",
   "execution_count": null,
   "id": "fdf105cc-9aca-4c1f-b55f-73a3a04c7972",
   "metadata": {
    "colab": {
     "base_uri": "https://localhost:8080/",
     "height": 463
    },
    "id": "fdf105cc-9aca-4c1f-b55f-73a3a04c7972",
    "outputId": "72e849a8-edb4-46d1-88cc-0b139aefc943"
   },
   "outputs": [],
   "source": [
    "hist_box(data, 'avg_price_per_room')"
   ]
  },
  {
   "cell_type": "code",
   "execution_count": null,
   "id": "49b53477-025c-4387-b8bc-ed2bd64d48ff",
   "metadata": {
    "colab": {
     "base_uri": "https://localhost:8080/",
     "height": 525
    },
    "id": "49b53477-025c-4387-b8bc-ed2bd64d48ff",
    "outputId": "b61d7685-9d6f-4305-ed42-e9fc7f8af920"
   },
   "outputs": [],
   "source": [
    "sns.boxplot(x='market_segment_type', y='avg_price_per_room', data=data)\n",
    "plt.xlabel('market_segment_type')\n",
    "plt.ylabel('Prix moyen par chambre')\n",
    "plt.xticks(rotation=45)\n",
    "plt.show()"
   ]
  },
  {
   "cell_type": "code",
   "execution_count": null,
   "id": "87090174-1088-45e6-87ff-67ee948825a6",
   "metadata": {
    "colab": {
     "base_uri": "https://localhost:8080/",
     "height": 196
    },
    "id": "87090174-1088-45e6-87ff-67ee948825a6",
    "outputId": "1f66ada3-9e26-47b0-f212-ca427bc0d40d"
   },
   "outputs": [],
   "source": [
    "print(data[data[\"avg_price_per_room\"] == 0].shape[0]/data.shape[0] *100)\n",
    "data.loc[data[\"avg_price_per_room\"] == 0, \"market_segment_type\"].value_counts()"
   ]
  },
  {
   "cell_type": "code",
   "execution_count": null,
   "id": "05b98b36-53d9-498f-bbdb-5077f3aa112d",
   "metadata": {
    "colab": {
     "base_uri": "https://localhost:8080/",
     "height": 132
    },
    "id": "05b98b36-53d9-498f-bbdb-5077f3aa112d",
    "outputId": "f4caf407-05f1-4e8c-8f7c-257e010b6fbb",
    "scrolled": true
   },
   "outputs": [],
   "source": [
    "data[data[\"avg_price_per_room\"] > 500]"
   ]
  },
  {
   "cell_type": "code",
   "execution_count": null,
   "id": "4c9a1489-0a61-4a7f-ac27-822d33c7679b",
   "metadata": {
    "colab": {
     "base_uri": "https://localhost:8080/",
     "height": 398
    },
    "id": "4c9a1489-0a61-4a7f-ac27-822d33c7679b",
    "outputId": "ef6bffc4-1405-4b9e-f4fb-e411bd7bdf9e"
   },
   "outputs": [],
   "source": [
    "plt.figure(figsize=(12, 6))\n",
    "sns.boxplot(x='room_type_reserved', y='avg_price_per_room', data=data)\n",
    "plt.title('Distribution des prix moyens par chambre en fonction du type de chambre réservée')\n",
    "plt.xlabel('Type de chambre réservée')\n",
    "plt.ylabel('Prix moyen par chambre')\n",
    "plt.xticks(rotation=45)\n",
    "plt.show()"
   ]
  },
  {
   "cell_type": "markdown",
   "id": "35146c2e-0f9b-4929-ab2a-6be1ad1e4a7b",
   "metadata": {
    "id": "35146c2e-0f9b-4929-ab2a-6be1ad1e4a7b"
   },
   "source": [
    "**Gestion des valeurs aberrantes à l'aide de l’intervalle interquartile (IQR)**"
   ]
  },
  {
   "cell_type": "code",
   "execution_count": null,
   "id": "b3d35835-a2d0-47a3-9737-534258233ff1",
   "metadata": {
    "colab": {
     "base_uri": "https://localhost:8080/",
     "height": 649
    },
    "id": "b3d35835-a2d0-47a3-9737-534258233ff1",
    "outputId": "b2dc99ba-e715-4477-f0a5-65f4c6ec7a25"
   },
   "outputs": [],
   "source": [
    "Q1 = data[\"avg_price_per_room\"].quantile(0.25)\n",
    "Q3 = data[\"avg_price_per_room\"].quantile(0.75)\n",
    "IQR = Q3 - Q1\n",
    "Upper_Whisker = Q3 + 1.5 * IQR\n",
    "data.loc[data[\"avg_price_per_room\"] >= 500, \"avg_price_per_room\"] = Upper_Whisker\n",
    "\n",
    "data.loc[\"INN33115\"]"
   ]
  },
  {
   "cell_type": "markdown",
   "id": "1b81d28c-3114-4d42-80f5-854089366c7e",
   "metadata": {
    "id": "1b81d28c-3114-4d42-80f5-854089366c7e",
    "jp-MarkdownHeadingCollapsed": true
   },
   "source": [
    "* ***Analyse de la variable no_of_children**"
   ]
  },
  {
   "cell_type": "code",
   "execution_count": null,
   "id": "204b8fce-58e7-4460-b999-71c34e1d3bb4",
   "metadata": {
    "colab": {
     "base_uri": "https://localhost:8080/",
     "height": 476
    },
    "id": "204b8fce-58e7-4460-b999-71c34e1d3bb4",
    "outputId": "339bfe18-3027-40cc-8311-da8e8e88a856"
   },
   "outputs": [],
   "source": [
    "hist_box(data, 'no_of_children')"
   ]
  },
  {
   "cell_type": "code",
   "execution_count": null,
   "id": "a5f6e329-0d54-42e3-b631-921543d56156",
   "metadata": {
    "colab": {
     "base_uri": "https://localhost:8080/",
     "height": 304
    },
    "id": "a5f6e329-0d54-42e3-b631-921543d56156",
    "outputId": "1dfdeb06-6a16-451d-c317-45e3b43bd357"
   },
   "outputs": [],
   "source": [
    "data['no_of_children'].value_counts(normalize=True)"
   ]
  },
  {
   "cell_type": "code",
   "execution_count": null,
   "id": "1b961321-ef7c-4c3d-a169-d2dcfda5679b",
   "metadata": {
    "colab": {
     "base_uri": "https://localhost:8080/",
     "height": 241
    },
    "id": "1b961321-ef7c-4c3d-a169-d2dcfda5679b",
    "outputId": "a911434b-958f-4b68-c4bc-700770d97ce1"
   },
   "outputs": [],
   "source": [
    "data[\"no_of_children\"] = data[\"no_of_children\"].replace([9, 10], 3)\n",
    "data['no_of_children'].value_counts(normalize=True)"
   ]
  },
  {
   "cell_type": "markdown",
   "id": "7ea95560-5da0-45fe-9b94-69e245e22937",
   "metadata": {
    "id": "7ea95560-5da0-45fe-9b94-69e245e22937"
   },
   "source": [
    "### Analyse des variables categorielles"
   ]
  },
  {
   "cell_type": "code",
   "execution_count": null,
   "id": "84550cb5-71d8-4de7-bd7b-2480c5a2bca4",
   "metadata": {
    "colab": {
     "base_uri": "https://localhost:8080/",
     "height": 1000
    },
    "id": "84550cb5-71d8-4de7-bd7b-2480c5a2bca4",
    "outputId": "e3db91e0-51ef-4b5a-83ab-5800b6af3015"
   },
   "outputs": [],
   "source": [
    "var_char = [col for col in var_char if col != \"booking_status\"]\n",
    "for col in var_char:\n",
    "\n",
    "    plt.figure(figsize=(8,4))\n",
    "    sns.countplot(y=col, data=data, order=data[col].value_counts().index, palette='viridis')\n",
    "    plt.title(f'Distribution de {col}')\n",
    "    plt.xlabel('Nombre d\\'observations')\n",
    "    plt.ylabel(col)\n",
    "    plt.grid(axis='x', linestyle='--', alpha=0.7)\n",
    "    plt.show()"
   ]
  },
  {
   "cell_type": "markdown",
   "id": "1d99486c-886f-4a5b-8ba6-0f0d07ae99af",
   "metadata": {
    "id": "1d99486c-886f-4a5b-8ba6-0f0d07ae99af"
   },
   "source": [
    "## Analyse multivariré"
   ]
  },
  {
   "cell_type": "markdown",
   "id": "28367f7c-074a-4f0d-b94d-b71f0a741983",
   "metadata": {
    "id": "28367f7c-074a-4f0d-b94d-b71f0a741983"
   },
   "source": [
    "### Analyse des variables numeriques en fonction de la variable cible :"
   ]
  },
  {
   "cell_type": "code",
   "execution_count": null,
   "id": "6b906b35-5ed2-4b54-8f53-d950566ebe18",
   "metadata": {
    "id": "6b906b35-5ed2-4b54-8f53-d950566ebe18"
   },
   "outputs": [],
   "source": [
    "num_vars = len(var_num)  \n",
    "rows = (num_vars // 3) + (num_vars % 3 > 0)  \n",
    "plt.figure(figsize=(21, 7 * rows))  \n",
    "\n",
    "for i, var in enumerate(var_num[:-1], start=1):  \n",
    "    plt.subplot(rows, 3, i)\n",
    "\n",
    "    # kdeplot\n",
    "    sns.kdeplot(\n",
    "        data=data,\n",
    "        x=var,\n",
    "        hue=\"booking_status\",\n",
    "        fill=True,\n",
    "        palette=\"Purples\",\n",
    "        common_norm=True\n",
    "    )\n",
    "    sns.despine(top=True, right=True, bottom=True, left=True)  \n",
    "    plt.tick_params(axis=\"both\", which=\"both\", bottom=False, top=False, left=False)\n",
    "    plt.xlabel(\"\")  \n",
    "    plt.title(var, fontsize=14)  \n",
    "\n",
    "plt.tight_layout()\n",
    "plt.show()"
   ]
  },
  {
   "cell_type": "markdown",
   "id": "8df5b5db-37e8-4661-b150-b57a71958ad4",
   "metadata": {
    "id": "8df5b5db-37e8-4661-b150-b57a71958ad4"
   },
   "source": [
    "### Analyse des variables catégorielles en fonction de la variable cible :"
   ]
  },
  {
   "cell_type": "code",
   "execution_count": null,
   "id": "7d13d395-6efa-40aa-a2e2-edbc4d43b440",
   "metadata": {
    "colab": {
     "base_uri": "https://localhost:8080/",
     "height": 1000
    },
    "id": "7d13d395-6efa-40aa-a2e2-edbc4d43b440",
    "outputId": "07d7a4cb-610c-497a-a099-d20e1541a383"
   },
   "outputs": [],
   "source": [
    "var_char = [col for col in var_char if col != \"booking_status\"]\n",
    "\n",
    "for col in var_char:\n",
    "    plt.figure(figsize=(10, 5))\n",
    "    sns.countplot(y=col, hue='booking_status', data=data,\n",
    "                  order=data[col].value_counts().index, palette='Set2')\n",
    "\n",
    "    plt.title(f'Répartition de {col} selon booking_status', fontsize=15)\n",
    "    plt.xlabel('Nombre d\\'observations')\n",
    "    plt.ylabel(col)\n",
    "    plt.legend(title='booking_status')\n",
    "    plt.grid(axis='x', linestyle='--', alpha=0.7)\n",
    "\n",
    "    plt.show()"
   ]
  },
  {
   "cell_type": "markdown",
   "id": "c760c961-004e-4507-832d-6b40a5b0eaa2",
   "metadata": {
    "id": "c760c961-004e-4507-832d-6b40a5b0eaa2"
   },
   "source": [
    "## Analyse de correlation et liaison avec la variable cible"
   ]
  },
  {
   "cell_type": "markdown",
   "id": "6a863d3c-3d25-4dfe-8cc9-81529ba5e9b0",
   "metadata": {
    "id": "6a863d3c-3d25-4dfe-8cc9-81529ba5e9b0"
   },
   "source": [
    "### Analyse de la correlation entre les variables"
   ]
  },
  {
   "cell_type": "markdown",
   "id": "12132b26-04e7-4fc7-9fdd-9f4464d9fc1e",
   "metadata": {
    "id": "12132b26-04e7-4fc7-9fdd-9f4464d9fc1e"
   },
   "source": [
    "#### Variables Quantitatives : Matrice de Correlation"
   ]
  },
  {
   "cell_type": "code",
   "execution_count": null,
   "id": "c712e20d-78d0-40a0-8169-873a3e365c3a",
   "metadata": {
    "colab": {
     "base_uri": "https://localhost:8080/",
     "height": 529
    },
    "id": "c712e20d-78d0-40a0-8169-873a3e365c3a",
    "outputId": "34164bcd-784a-4077-8c6a-dfbb32509e7b"
   },
   "outputs": [],
   "source": [
    "corr_matrix = data[var_num].corr()\n",
    "\n",
    "plt.figure(figsize=(12, 8))\n",
    "sns.heatmap(corr_matrix, annot=True, fmt='.2f', cmap='coolwarm', center=0)\n",
    "plt.title('Matrice de Corrélation des Variables Continues')\n",
    "plt.show()\n"
   ]
  },
  {
   "cell_type": "markdown",
   "id": "70e796b6-0c3d-41b9-b87e-f3ce36af8735",
   "metadata": {
    "id": "70e796b6-0c3d-41b9-b87e-f3ce36af8735"
   },
   "source": [
    "#### Variables Qualitatives : test de Khi-deux et V de cramer"
   ]
  },
  {
   "cell_type": "code",
   "execution_count": null,
   "id": "032c4ef2-84b9-4668-80d8-eaed5fc34a78",
   "metadata": {
    "colab": {
     "base_uri": "https://localhost:8080/",
     "height": 1000
    },
    "id": "032c4ef2-84b9-4668-80d8-eaed5fc34a78",
    "outputId": "3335d592-8dd7-4710-b2fe-0de2c256fdba"
   },
   "outputs": [],
   "source": [
    "results = {}\n",
    "\n",
    "for i in range(len(var_char)):\n",
    "    for j in range(i + 1, len(var_char)):\n",
    "        var1, var2 = var_char[i], var_char[j]\n",
    "        contingency_table = pd.crosstab(data[var1], data[var2])\n",
    "\n",
    "        chi2_stat, p_value, dof, expected = chi2_contingency(contingency_table)\n",
    "\n",
    "        n = contingency_table.sum().sum()  \n",
    "        k = min(contingency_table.shape) \n",
    "        cramer_v = np.sqrt(chi2_stat / (n * (k - 1))) if k > 1 else 0\n",
    "\n",
    "        results[f'{var1} & {var2}'] = {\n",
    "            \"chi2_statistic\": chi2_stat,\n",
    "            \"p_value\": p_value,\n",
    "            \"cramer_v\": cramer_v\n",
    "        }\n",
    "\n",
    "results_df = pd.DataFrame(results).T\n",
    "results_df.columns = ['Chi2 Statistic', 'P-Value', 'Cramer V']\n",
    "\n",
    "results_df"
   ]
  },
  {
   "cell_type": "markdown",
   "id": "fc188f00-084d-4ff9-adef-ac42f238200f",
   "metadata": {
    "id": "fc188f00-084d-4ff9-adef-ac42f238200f"
   },
   "source": [
    "### Liens entre \"booking_status\" et les variables explicatives :"
   ]
  },
  {
   "cell_type": "markdown",
   "id": "f338f439-06ea-4b12-a9b8-62221897ebe8",
   "metadata": {
    "id": "f338f439-06ea-4b12-a9b8-62221897ebe8"
   },
   "source": [
    "#### Variables Quantitatives : test de Student"
   ]
  },
  {
   "cell_type": "code",
   "execution_count": null,
   "id": "f3c49650-830a-43e2-9e1b-9b87ebf2a595",
   "metadata": {
    "colab": {
     "base_uri": "https://localhost:8080/"
    },
    "id": "f3c49650-830a-43e2-9e1b-9b87ebf2a595",
    "outputId": "ad918d20-8abd-4889-8d7b-eb6f23602af1"
   },
   "outputs": [],
   "source": [
    "results = []\n",
    "for var in var_num:\n",
    "\n",
    "    groupe_annule = data[data['booking_status'] == 'Canceled'][var]\n",
    "    groupe_non_annule = data[data['booking_status'] == 'Not_Canceled'][var]\n",
    "    t_stat, p_value = st.ttest_ind(groupe_annule, groupe_non_annule, equal_var=False)\n",
    "\n",
    "    results.append({\n",
    "        \"Variable\": var,\n",
    "        \"Statistique t\": t_stat,\n",
    "        \"P-Value\": p_value\n",
    "    })\n",
    "\n",
    "\n",
    "results_df = pd.DataFrame(results)\n",
    "results_df = results_df.sort_values(by=\"P-Value\")\n",
    "\n",
    "print(results_df.round(4))"
   ]
  },
  {
   "cell_type": "markdown",
   "id": "e3d79d2b-fdc7-498f-8c9e-4f95cd703414",
   "metadata": {
    "id": "e3d79d2b-fdc7-498f-8c9e-4f95cd703414"
   },
   "source": [
    "#### Variables catégorielles  : test de Chi2"
   ]
  },
  {
   "cell_type": "code",
   "execution_count": null,
   "id": "636d7a63-9e3f-4d31-83c5-d093b663ba28",
   "metadata": {
    "colab": {
     "base_uri": "https://localhost:8080/"
    },
    "id": "636d7a63-9e3f-4d31-83c5-d093b663ba28",
    "outputId": "d338d3cc-ee44-4121-aeed-582eabd33d39"
   },
   "outputs": [],
   "source": [
    "var_char\n",
    "results_chi2 = []\n",
    "\n",
    "for col in var_char:\n",
    "    contingency_table = pd.crosstab(data[col], data['booking_status'])\n",
    "    chi2_stat, p_val, dof, expected = chi2_contingency(contingency_table)\n",
    "\n",
    "    results_chi2.append({\n",
    "        \"Variable\": col,\n",
    "        \"Chi2 Statistique\": chi2_stat,\n",
    "        \"P-Value\": p_val\n",
    "    })\n",
    "\n",
    "chi2_results_df = pd.DataFrame(results_chi2).sort_values(by=\"P-Value\")\n",
    "\n",
    "print(chi2_results_df.round(4))"
   ]
  },
  {
   "cell_type": "markdown",
   "id": "LCAtAKngf8_1",
   "metadata": {
    "id": "LCAtAKngf8_1"
   },
   "source": [
    "# Préparation des données pour la modélisation"
   ]
  },
  {
   "cell_type": "markdown",
   "id": "4a9b200a-7a0a-4088-b590-15c4a1e55577",
   "metadata": {
    "id": "4a9b200a-7a0a-4088-b590-15c4a1e55577"
   },
   "source": [
    "## Préparation variables catégorielles et de la variable cible"
   ]
  },
  {
   "cell_type": "markdown",
   "id": "a0335e77-d108-4277-81d5-6cee09680161",
   "metadata": {
    "id": "a0335e77-d108-4277-81d5-6cee09680161"
   },
   "source": [
    "### Preparation et Encodage des variables categorielles"
   ]
  },
  {
   "cell_type": "code",
   "execution_count": null,
   "id": "8152521f-1acc-4c93-843c-ee5489db27b9",
   "metadata": {
    "id": "8152521f-1acc-4c93-843c-ee5489db27b9"
   },
   "outputs": [],
   "source": [
    "# X['lead_time'] = np.log1p(X['lead_time'])\n",
    "# X['avg_price_per_room'] = np.log1p(X['avg_price_per_room'])"
   ]
  },
  {
   "cell_type": "code",
   "execution_count": null,
   "id": "WuASTiJDL0OO",
   "metadata": {
    "id": "WuASTiJDL0OO"
   },
   "outputs": [],
   "source": [
    "df = data.copy()"
   ]
  },
  {
   "cell_type": "code",
   "execution_count": null,
   "id": "tIJ2GTpHCuRG",
   "metadata": {
    "colab": {
     "base_uri": "https://localhost:8080/"
    },
    "id": "tIJ2GTpHCuRG",
    "outputId": "3469d22e-ccf5-45c7-f82a-76658899f164"
   },
   "outputs": [],
   "source": [
    "df.info()"
   ]
  },
  {
   "cell_type": "code",
   "execution_count": null,
   "id": "C91vjzFaMVtI",
   "metadata": {
    "id": "C91vjzFaMVtI"
   },
   "outputs": [],
   "source": [
    "# Recodage de la variable cible :\n",
    "df['booking_status'] = df['booking_status'].map({'Canceled': 1, 'Not_Canceled': 0})"
   ]
  },
  {
   "cell_type": "code",
   "execution_count": null,
   "id": "3a4abd6f-29b2-4f91-bed1-609e1d040cda",
   "metadata": {},
   "outputs": [],
   "source": [
    "q1 = np.quantile(df['lead_time'], 0.25)\n",
    "q3 = np.quantile(df['lead_time'], 0.75)\n",
    "diff = q3 - q1\n",
    "df['lead_time_out'] = df['lead_time'] > q3 + (1.5 * diff)\n",
    "\n",
    "freq_map = df['lead_time_out'].value_counts(normalize=True)\n",
    "df['lead_time_out'] = df['lead_time_out'].map(freq_map)"
   ]
  },
  {
   "cell_type": "code",
   "execution_count": null,
   "id": "wbBKiUlLMkQH",
   "metadata": {
    "id": "wbBKiUlLMkQH"
   },
   "outputs": [],
   "source": [
    "# Definir la variable cible\n",
    "target = 'booking_status'"
   ]
  },
  {
   "cell_type": "code",
   "execution_count": null,
   "id": "2549bcfc-c6dc-48af-8937-e5e3876b2403",
   "metadata": {
    "id": "2549bcfc-c6dc-48af-8937-e5e3876b2403"
   },
   "outputs": [],
   "source": [
    "df.drop(['repeated_guest', 'arrival_year'], axis=1, inplace=True)"
   ]
  },
  {
   "cell_type": "code",
   "execution_count": null,
   "id": "n6znBnvWCWPz",
   "metadata": {
    "colab": {
     "base_uri": "https://localhost:8080/"
    },
    "id": "n6znBnvWCWPz",
    "outputId": "d5baad66-4118-427f-fa14-b79fca3c354b"
   },
   "outputs": [],
   "source": [
    "df.info()"
   ]
  },
  {
   "cell_type": "markdown",
   "id": "rRhZhEj7wXzH",
   "metadata": {
    "id": "rRhZhEj7wXzH"
   },
   "source": [
    "* **Encodage des variables temporelles : Cyclical encoding**\n"
   ]
  },
  {
   "cell_type": "code",
   "execution_count": null,
   "id": "0A1I_y7NwdRg",
   "metadata": {
    "id": "0A1I_y7NwdRg"
   },
   "outputs": [],
   "source": [
    "df['arrival_date'] = df['arrival_date'].astype('int64')\n",
    "df['arrival_month'] = df['arrival_month'].astype('int64')\n",
    "\n",
    "# we assum that the madx is  31 days\n",
    "df['arrival_date_sin'] = np.sin(2 * np.pi * df['arrival_date'] / 31)\n",
    "df['arrival_date_cos'] = np.cos(2 * np.pi * df['arrival_date'] / 31)\n",
    "\n",
    "#\n",
    "df['arrival_month_sin'] = np.sin(2 * np.pi * df['arrival_month'] / 12)\n",
    "df['arrival_month_cos'] = np.cos(2 * np.pi * df['arrival_month'] / 12)"
   ]
  },
  {
   "cell_type": "code",
   "execution_count": null,
   "id": "At-4pqBYAZD6",
   "metadata": {
    "id": "At-4pqBYAZD6"
   },
   "outputs": [],
   "source": [
    "df.drop(['arrival_date','arrival_month'], axis=1,inplace=True)"
   ]
  },
  {
   "cell_type": "code",
   "execution_count": null,
   "id": "s6ytQxWYColC",
   "metadata": {
    "colab": {
     "base_uri": "https://localhost:8080/"
    },
    "id": "s6ytQxWYColC",
    "outputId": "d7d15d72-ec14-4824-9b78-cbbb1c7bb0c4"
   },
   "outputs": [],
   "source": [
    "df.columns"
   ]
  },
  {
   "cell_type": "markdown",
   "id": "h2RyDmSJI78q",
   "metadata": {
    "id": "h2RyDmSJI78q"
   },
   "source": [
    "* **Encodage des variables avec plus de 4 modalités:**\n"
   ]
  },
  {
   "cell_type": "code",
   "execution_count": null,
   "id": "rO8w8KVIIb8B",
   "metadata": {
    "colab": {
     "base_uri": "https://localhost:8080/"
    },
    "id": "rO8w8KVIIb8B",
    "outputId": "d2d2b578-49f4-496a-ca77-a74c9117cb39"
   },
   "outputs": [],
   "source": [
    "categorical_columns = df.select_dtypes(include=['object', 'category']).columns\n",
    "categorical_columns"
   ]
  },
  {
   "cell_type": "code",
   "execution_count": null,
   "id": "zUX7bqcSCLxb",
   "metadata": {
    "colab": {
     "base_uri": "https://localhost:8080/"
    },
    "id": "zUX7bqcSCLxb",
    "outputId": "5d1d3df7-6478-4970-82e9-1a7a0082f2f0"
   },
   "outputs": [],
   "source": [
    "var_cat_plus_4 = []\n",
    "var_cat_moins_4 = []\n",
    "\n",
    "for var in categorical_columns :\n",
    "    print(df[var].value_counts())\n",
    "    print(len(df[var].value_counts()))\n",
    "    if len(df[var].value_counts()) >= 4 :\n",
    "        var_cat_plus_4.append(var)\n",
    "    else :\n",
    "        var_cat_moins_4.append(var)\n",
    "\n",
    "print(var_cat_plus_4,var_cat_moins_4)"
   ]
  },
  {
   "cell_type": "code",
   "execution_count": null,
   "id": "KpojrZynKUc5",
   "metadata": {
    "id": "KpojrZynKUc5"
   },
   "outputs": [],
   "source": [
    " # Les variables catégorielles a plus de 4 modalités sont remplacées par la variable moyenne de la variable cible par modalité\n",
    "\n",
    "for v in var_cat_plus_4:\n",
    "    tmp = pd.DataFrame(df.groupby(by=[v])[target].mean())\n",
    "    df= df.join(tmp, on=v, how='left', lsuffix='', rsuffix= \"_%_\"+ v , sort=False)"
   ]
  },
  {
   "cell_type": "markdown",
   "id": "gl5JPO4IJKGB",
   "metadata": {
    "id": "gl5JPO4IJKGB"
   },
   "source": [
    "**Encodage des variables binaires**\n"
   ]
  },
  {
   "cell_type": "code",
   "execution_count": null,
   "id": "92ce7fb1-9ef2-48f9-a211-aae3b0017536",
   "metadata": {
    "id": "92ce7fb1-9ef2-48f9-a211-aae3b0017536"
   },
   "outputs": [],
   "source": [
    "df[\"required_car_parking_space\"] = df[\"required_car_parking_space\"].astype('int64')\n"
   ]
  },
  {
   "cell_type": "code",
   "execution_count": null,
   "id": "l07ZCbakepwk",
   "metadata": {
    "colab": {
     "base_uri": "https://localhost:8080/"
    },
    "id": "l07ZCbakepwk",
    "outputId": "c1ff570c-9c47-4274-a694-e3b650e6e16b"
   },
   "outputs": [],
   "source": [
    "df.info()"
   ]
  },
  {
   "cell_type": "markdown",
   "id": "55216f79-fcae-46dc-9fcd-0db76a34c94e",
   "metadata": {
    "id": "55216f79-fcae-46dc-9fcd-0db76a34c94e"
   },
   "source": [
    "### Separtaion et encodage de la variable cible"
   ]
  },
  {
   "cell_type": "code",
   "execution_count": null,
   "id": "s1m6RxPNPQYV",
   "metadata": {
    "colab": {
     "base_uri": "https://localhost:8080/"
    },
    "id": "s1m6RxPNPQYV",
    "outputId": "9a4ebc6c-6887-4104-d254-e46a68566745"
   },
   "outputs": [],
   "source": [
    "var_continues = list(df.select_dtypes(include=['int64', 'float64']).columns)\n",
    "len(var_continues)"
   ]
  },
  {
   "cell_type": "code",
   "execution_count": null,
   "id": "EgjSJ0hjPhVn",
   "metadata": {
    "colab": {
     "base_uri": "https://localhost:8080/"
    },
    "id": "EgjSJ0hjPhVn",
    "outputId": "a2941c54-e407-4b46-f601-3b8564cb043c"
   },
   "outputs": [],
   "source": [
    "var_continues"
   ]
  },
  {
   "cell_type": "code",
   "execution_count": null,
   "id": "-zBtaDGeP7mA",
   "metadata": {
    "id": "-zBtaDGeP7mA"
   },
   "outputs": [],
   "source": [
    "X_var_continues = var_continues.remove(target)"
   ]
  },
  {
   "cell_type": "code",
   "execution_count": null,
   "id": "TAjQAnXfQfVW",
   "metadata": {
    "id": "TAjQAnXfQfVW"
   },
   "outputs": [],
   "source": [
    "Y = df[target]"
   ]
  },
  {
   "cell_type": "code",
   "execution_count": null,
   "id": "qJA5JS1RQ-o5",
   "metadata": {
    "id": "qJA5JS1RQ-o5"
   },
   "outputs": [],
   "source": [
    "colonnes_presentes = [col for col in var_continues if col in df.columns]\n",
    "X = df[colonnes_presentes]"
   ]
  },
  {
   "cell_type": "code",
   "execution_count": null,
   "id": "7yTlQh8JRCiL",
   "metadata": {
    "colab": {
     "base_uri": "https://localhost:8080/"
    },
    "id": "7yTlQh8JRCiL",
    "outputId": "86bf6319-a29d-4265-f289-fc83b607e5e4"
   },
   "outputs": [],
   "source": [
    "X.columns"
   ]
  },
  {
   "cell_type": "code",
   "execution_count": null,
   "id": "WQI-iAjqRUGn",
   "metadata": {
    "colab": {
     "base_uri": "https://localhost:8080/",
     "height": 272
    },
    "id": "WQI-iAjqRUGn",
    "outputId": "a2662026-5c03-4798-db51-f6bacd0d3085"
   },
   "outputs": [],
   "source": [
    "Y.head()"
   ]
  },
  {
   "cell_type": "code",
   "execution_count": null,
   "id": "DoIbq_GsRY_r",
   "metadata": {
    "colab": {
     "base_uri": "https://localhost:8080/",
     "height": 258
    },
    "id": "DoIbq_GsRY_r",
    "outputId": "064190e3-7abc-4b6b-d32f-e3aac7881126"
   },
   "outputs": [],
   "source": [
    "X.head()"
   ]
  },
  {
   "cell_type": "markdown",
   "id": "723a76ca-dd48-4fd8-a6f6-bf461827be2b",
   "metadata": {
    "id": "723a76ca-dd48-4fd8-a6f6-bf461827be2b"
   },
   "source": [
    "## Standardisation des variables"
   ]
  },
  {
   "cell_type": "code",
   "execution_count": null,
   "id": "5bdaadad-e4fe-42dc-9155-2737593e6c36",
   "metadata": {
    "colab": {
     "base_uri": "https://localhost:8080/",
     "height": 226
    },
    "id": "5bdaadad-e4fe-42dc-9155-2737593e6c36",
    "outputId": "295619d3-84a6-4f79-d6b2-b2fbeb9958ec"
   },
   "outputs": [],
   "source": [
    "scaler = RobustScaler()\n",
    "X_scaled = scaler.fit_transform(X)\n",
    "X_scaled = pd.DataFrame(X_scaled, columns=X.columns)\n",
    "X_scaled.head()"
   ]
  },
  {
   "cell_type": "code",
   "execution_count": null,
   "id": "MRZxUxfoR9dV",
   "metadata": {
    "colab": {
     "base_uri": "https://localhost:8080/"
    },
    "id": "MRZxUxfoR9dV",
    "outputId": "2d27a2f0-5461-4d92-e4e0-e4d2ad3a8355"
   },
   "outputs": [],
   "source": [
    "X_scaled.shape"
   ]
  },
  {
   "cell_type": "markdown",
   "id": "50583a9b-d2fb-4ce5-aecc-adc4650d70d1",
   "metadata": {
    "id": "50583a9b-d2fb-4ce5-aecc-adc4650d70d1"
   },
   "source": [
    "## Séparation en train/test"
   ]
  },
  {
   "cell_type": "code",
   "execution_count": null,
   "id": "d0e1cb9e-45ed-4dae-ac70-d673390140b5",
   "metadata": {
    "colab": {
     "base_uri": "https://localhost:8080/"
    },
    "id": "d0e1cb9e-45ed-4dae-ac70-d673390140b5",
    "outputId": "317000f6-167a-4f56-ebde-f352ae72446b"
   },
   "outputs": [],
   "source": [
    "X_train, X_test, y_train, y_test = train_test_split(\n",
    "    X_scaled, Y,\n",
    "    test_size=0.2,\n",
    "    stratify=Y,\n",
    "    random_state=42\n",
    ")\n",
    "\n",
    "# Vérification des dimensions\n",
    "print(\"X_train shape :\", X_train.shape)\n",
    "print(\"y_train shape :\", y_train.shape)\n",
    "print(\"X_test shape :\", X_test.shape)\n",
    "print(\"y_test shape :\", y_test.shape)\n"
   ]
  },
  {
   "cell_type": "markdown",
   "id": "7d9b69a1-e6fe-4ebb-8879-0c24be6be9a0",
   "metadata": {
    "id": "7d9b69a1-e6fe-4ebb-8879-0c24be6be9a0"
   },
   "source": [
    "# Modélisation"
   ]
  },
  {
   "cell_type": "code",
   "execution_count": null,
   "id": "fxADS3nQh74w",
   "metadata": {
    "id": "fxADS3nQh74w"
   },
   "outputs": [],
   "source": [
    "from sklearn.metrics import accuracy_score\n",
    "from sklearn.metrics import classification_report\n",
    "from sklearn.metrics import confusion_matrix\n",
    "from sklearn.metrics import log_loss\n",
    "from sklearn.metrics import precision_recall_curve\n",
    "from sklearn.metrics import average_precision_score\n",
    "from sklearn.metrics import roc_curve, auc\n",
    "\n",
    "# from imblearn.over_sampling import SMOTE\n",
    "from sklearn.linear_model import LogisticRegression\n",
    "from sklearn.linear_model import lasso_path, LassoCV\n",
    "from sklearn.tree import DecisionTreeClassifier\n",
    "from sklearn.tree import plot_tree\n",
    "\n",
    "import random\n",
    "from skopt import BayesSearchCV\n",
    "from skopt.space import Real, Integer,Categorical\n",
    "from sklearn.model_selection import cross_validate\n",
    "from sklearn.model_selection import GridSearchCV\n",
    "from sklearn.model_selection import RandomizedSearchCV\n",
    "\n",
    "from xgboost import XGBClassifier\n",
    "import optuna\n",
    "\n"
   ]
  },
  {
   "cell_type": "markdown",
   "id": "2IlBSxPfYoPn",
   "metadata": {
    "id": "2IlBSxPfYoPn"
   },
   "source": [
    "## Arbre de décision :"
   ]
  },
  {
   "cell_type": "markdown",
   "id": "oooJigh64LCb",
   "metadata": {
    "id": "oooJigh64LCb"
   },
   "source": [
    "### Modèle d'initialisation"
   ]
  },
  {
   "cell_type": "code",
   "execution_count": null,
   "id": "w_A0LFAqZLgP",
   "metadata": {
    "id": "w_A0LFAqZLgP"
   },
   "outputs": [],
   "source": [
    "tree = DecisionTreeClassifier(criterion='gini',\n",
    "                              splitter='best',\n",
    "                              min_samples_leaf=20, # augmentation de ce parametre pour forcer l'arbre à ne pas trop se spécialiser sur des petits groupes d'observations.\n",
    "                              max_depth=5, # imiter la profondeur maximale de l'arbre pour éviter qu'il apprenne trop de détails spécifiques à l'échantillon d'entraînement.\n",
    "                              random_state=42)\n",
    "# il faut optimiser ces parametres"
   ]
  },
  {
   "cell_type": "code",
   "execution_count": null,
   "id": "wsevLCLeZcl4",
   "metadata": {
    "colab": {
     "base_uri": "https://localhost:8080/"
    },
    "id": "wsevLCLeZcl4",
    "outputId": "64fcd1ca-227f-4059-c8ca-e928fa671927"
   },
   "outputs": [],
   "source": [
    "tree.fit(X_train,y_train)\n",
    "print(tree)"
   ]
  },
  {
   "cell_type": "code",
   "execution_count": null,
   "id": "d4i9MQTjZePC",
   "metadata": {
    "colab": {
     "base_uri": "https://localhost:8080/"
    },
    "id": "d4i9MQTjZePC",
    "outputId": "61cc75ee-e15d-4c64-a502-9f3de2d2059b"
   },
   "outputs": [],
   "source": [
    "y_train_predict = tree.predict(X_train)\n",
    "print(y_train_predict)"
   ]
  },
  {
   "cell_type": "code",
   "execution_count": null,
   "id": "5TEVDl92ZeMl",
   "metadata": {
    "id": "5TEVDl92ZeMl"
   },
   "outputs": [],
   "source": [
    "y_test_predict = tree.predict(X_test)"
   ]
  },
  {
   "cell_type": "code",
   "execution_count": null,
   "id": "1KSYwmLzZeIC",
   "metadata": {
    "colab": {
     "base_uri": "https://localhost:8080/"
    },
    "id": "1KSYwmLzZeIC",
    "outputId": "30e747fd-ea21-49aa-b474-4d89302ac9f6"
   },
   "outputs": [],
   "source": [
    "y_train_predict_proba = tree.predict_proba(X_train)[:,1]# On conserve en mémoire uniquement la probabilité de l'événement cible pour nos graphiques\n",
    "print(y_train_predict_proba)\n",
    "y_test_predict_proba = tree.predict_proba(X_test)[:,1]"
   ]
  },
  {
   "cell_type": "code",
   "execution_count": null,
   "id": "fEkPlKpvZeFi",
   "metadata": {
    "colab": {
     "base_uri": "https://localhost:8080/",
     "height": 602
    },
    "id": "fEkPlKpvZeFi",
    "outputId": "7ab9354b-35f6-4c78-b15e-9bba2e5c8a8e"
   },
   "outputs": [],
   "source": [
    "plt.figure(figsize=(100,100))\n",
    "plot_tree(tree, feature_names = var_continues,  max_depth=5, filled = True, fontsize=50)\n",
    "plt.show()"
   ]
  },
  {
   "cell_type": "code",
   "execution_count": null,
   "id": "xAhEsfxxZd_s",
   "metadata": {
    "colab": {
     "base_uri": "https://localhost:8080/",
     "height": 242
    },
    "id": "xAhEsfxxZd_s",
    "outputId": "60ccd493-1c7e-47a0-aa79-8a5732c9f3e4"
   },
   "outputs": [],
   "source": [
    "# Importance des variables\n",
    "importance_variable = pd.DataFrame()\n",
    "importance_variable[\"Variable\"]= var_continues\n",
    "importance_variable[\"Feature Importance\"] = tree.feature_importances_\n",
    "importance_variable.sort_values(by = \"Feature Importance\", axis=0, ascending=False, inplace=True)\n",
    "\n",
    "print(\"Les 5 variables les plus importantes : \")\n",
    "importance_variable.head(5)"
   ]
  },
  {
   "cell_type": "code",
   "execution_count": null,
   "id": "EalPwCaWaT1I",
   "metadata": {
    "colab": {
     "base_uri": "https://localhost:8080/",
     "height": 582
    },
    "id": "EalPwCaWaT1I",
    "outputId": "6c60f5b0-1672-4e07-9a28-2a5da072e003"
   },
   "outputs": [],
   "source": [
    "importance_variable"
   ]
  },
  {
   "cell_type": "code",
   "execution_count": null,
   "id": "nOfmdJ73fPnb",
   "metadata": {
    "id": "nOfmdJ73fPnb"
   },
   "outputs": [],
   "source": [
    "select_var = [\"lead_time\",\n",
    "\"booking_status_%_market_segment_type\",\n",
    "\"no_of_special_requests\",\n",
    "\"avg_price_per_room\"]"
   ]
  },
  {
   "cell_type": "markdown",
   "id": "DomttjdhbIHa",
   "metadata": {
    "id": "DomttjdhbIHa"
   },
   "source": [
    "#### Évaluation du modele :"
   ]
  },
  {
   "cell_type": "code",
   "execution_count": null,
   "id": "UBwTULoNbJhc",
   "metadata": {
    "colab": {
     "base_uri": "https://localhost:8080/",
     "height": 472
    },
    "id": "UBwTULoNbJhc",
    "outputId": "23bd2126-07f5-4c2e-e3f6-197bbee071b3"
   },
   "outputs": [],
   "source": [
    "fpr_train, tpr_train, _ = roc_curve(y_train, y_train_predict_proba)\n",
    "roc_auc_train = auc(fpr_train, tpr_train)\n",
    "fpr_test, tpr_test, _ = roc_curve(y_test, y_test_predict_proba)\n",
    "roc_auc_test = auc(fpr_test, tpr_test)\n",
    "\n",
    "plt.figure()\n",
    "lw = 2\n",
    "plt.plot(fpr_train, tpr_train, color='darkorange',\n",
    "         lw=lw, label='Train - ROC curve (area = %0.2f)' % roc_auc_train)\n",
    "\n",
    "plt.plot(fpr_test, tpr_test, color='darkgreen',\n",
    "         lw=lw, label='Test - ROC curve (area = %0.2f)' % roc_auc_test)\n",
    "\n",
    "plt.plot([0, 1], [0, 1], color='navy', lw=lw, linestyle='--')\n",
    "plt.xlim([0.0, 1.0])\n",
    "plt.ylim([0.0, 1.05])\n",
    "plt.xlabel('False Positive Rate')\n",
    "plt.ylabel('True Positive Rate')\n",
    "plt.title('Comparaison courve ROC (TRAIN / TEST)')\n",
    "plt.legend(loc=\"lower right\")\n",
    "plt.show()\n"
   ]
  },
  {
   "cell_type": "code",
   "execution_count": null,
   "id": "nmfkN6fvbJfT",
   "metadata": {
    "colab": {
     "base_uri": "https://localhost:8080/"
    },
    "id": "nmfkN6fvbJfT",
    "outputId": "09eaea34-6e28-45cb-a7ef-b4e81231cf87"
   },
   "outputs": [],
   "source": [
    "print(\"log loss app : \" + str(log_loss(y_train, y_train_predict_proba)))\n",
    "print(\"log loss test : \" + str(log_loss(y_test, y_test_predict_proba)))"
   ]
  },
  {
   "cell_type": "code",
   "execution_count": null,
   "id": "XqnwO-6-g_D0",
   "metadata": {
    "id": "XqnwO-6-g_D0"
   },
   "outputs": [],
   "source": [
    "def metrics_score(actual, predicted):\n",
    "    print(classification_report(actual, predicted))\n",
    "\n",
    "    cm = confusion_matrix(actual, predicted)\n",
    "    plt.figure(figsize=(8,5))\n",
    "\n",
    "    sns.heatmap(cm, annot=True,  fmt='.2f', xticklabels=['Not Cancelled', 'Cancelled'], yticklabels=['Not Cancelled', 'Cancelled'])\n",
    "    plt.ylabel('Actual')\n",
    "    plt.xlabel('Predicted')\n",
    "    plt.show()"
   ]
  },
  {
   "cell_type": "code",
   "execution_count": null,
   "id": "vsZ2JAGeeVsC",
   "metadata": {
    "id": "vsZ2JAGeeVsC"
   },
   "outputs": [],
   "source": [
    "y_train_predict = tree.predict(X_train)\n",
    "y_test_predict = tree.predict(X_test)"
   ]
  },
  {
   "cell_type": "code",
   "execution_count": null,
   "id": "v7CvyqY4hCKc",
   "metadata": {
    "colab": {
     "base_uri": "https://localhost:8080/",
     "height": 603
    },
    "id": "v7CvyqY4hCKc",
    "outputId": "d940603e-d0f5-4e63-eaed-04f7cfe71de9"
   },
   "outputs": [],
   "source": [
    "metrics_score(y_train, y_train_predict)"
   ]
  },
  {
   "cell_type": "code",
   "execution_count": null,
   "id": "sRy9vGUUhMOI",
   "metadata": {
    "colab": {
     "base_uri": "https://localhost:8080/",
     "height": 609
    },
    "id": "sRy9vGUUhMOI",
    "outputId": "75ec605b-0093-467a-d5e6-3b85b14e6815"
   },
   "outputs": [],
   "source": [
    "metrics_score(y_test, y_test_predict)"
   ]
  },
  {
   "cell_type": "markdown",
   "id": "FcCWVeSV2xow",
   "metadata": {
    "id": "FcCWVeSV2xow"
   },
   "source": [
    "### Optimisation du modele"
   ]
  },
  {
   "cell_type": "code",
   "execution_count": null,
   "id": "5D8VHjN-2qU1",
   "metadata": {
    "colab": {
     "base_uri": "https://localhost:8080/",
     "height": 482
    },
    "id": "5D8VHjN-2qU1",
    "outputId": "2f13298d-6c1c-4258-ca99-e348829c69e3"
   },
   "outputs": [],
   "source": [
    "# Création du dictionnaire des indicateurs que nous souhaitons testés pour la méthode Random ou GridSearch\n",
    "param_dict = {\n",
    "    'criterion': ['gini', 'entropy'], # Le critère de split des arbres\n",
    "    'splitter': ['best','random'],    # Est-ce que l'on teste un échantillon de variable (random)\n",
    "                                        #ou toutes les variables (best) à chaque neoud\n",
    "    'max_depth': [3,4,10],  # Profondeur maximum de l'arbre\n",
    "    'min_samples_split': [2,4], # # Nombre d'observations mimnimum pour créer un split\n",
    "    'min_samples_leaf': [1,5,10],     # Nombre d'observations minimum dans une feuille\n",
    "    'min_weight_fraction_leaf': [0,0.01], # Proportion minimum des observations dans une feuille\n",
    "    'max_features': ['log2',\"sqrt\"]}\n",
    "\n",
    "#Création  du dictionnaire de recherche pour la méthode d'optimisation bayesienne\n",
    "clf = DecisionTreeClassifier()\n",
    "param_dict_bayes = {\n",
    "    'criterion': Categorical(['gini', 'entropy']),\n",
    "    'splitter': Categorical(['best','random']),\n",
    "    'max_depth': Integer(3,30),\n",
    "    'min_samples_split': Integer(2,50),\n",
    "    'min_samples_leaf': Integer(1,20),\n",
    "    'min_weight_fraction_leaf': Real(0,0.5, prior='uniform')}\n",
    "\n",
    "\n",
    "NB_ITER = 5\n",
    "\n",
    "\n",
    "\n",
    "def random_parameter(clf,param_dict,n_iter,X_train,y_train,nb_cv) :\n",
    "    res = pd.DataFrame()\n",
    "    compt = 0\n",
    "    num_iter = []\n",
    "    auc=[]\n",
    "    param = []\n",
    "    while compt <n_iter :\n",
    "        compt = compt +1\n",
    "        params = {key: random.sample(value, 1)[0] for key, value in param_dict.items()}\n",
    "        clf.set_params(**params)\n",
    "        scores = cross_validate(clf, X_train, y_train, cv=5,\n",
    "                        scoring = ['roc_auc'])\n",
    "        num_iter.append(compt)\n",
    "        param.append(params)\n",
    "        auc.append(scores['test_roc_auc'].mean())\n",
    "\n",
    "    res[\"Num_ITER\"] = num_iter\n",
    "    res[\"Param\"] = param\n",
    "    res[\"Auc\"] = auc\n",
    "\n",
    "    return res\n",
    "\n",
    "Random_Res_Tree = random_parameter(DecisionTreeClassifier() ,param_dict,NB_ITER,X_train,y_train,5)\n",
    "print(\" #### RECHERCHE ALEATOIRE #### \")\n",
    "Random_Res_Tree.sort_values('Auc', ascending = False, inplace = True)\n",
    "Random_Res_Tree.head()\n",
    "best_param_random_search = list(Random_Res_Tree[\"Param\"])[0]\n",
    "print(\"\\n Paramètres recherche aléatoire : \")\n",
    "print(best_param_random_search)\n",
    "\n",
    "print(\"\\n Résultats recherche aléatoire : \" + str(Random_Res_Tree['Auc'].max()))\n",
    "\n",
    "\n",
    "\n",
    "\n",
    "Grid_Search = GridSearchCV(DecisionTreeClassifier(),param_dict,scoring='roc_auc',cv=5)\n",
    "Grid_Search.fit(X_train,y_train)\n",
    "print(\" #### RECHERCHE GRID SEARCH #### \")\n",
    "print(\"\\n Paramètres grid search : \")\n",
    "best_param_gid_search = Grid_Search.best_params_\n",
    "print(best_param_gid_search)\n",
    "best_score_grid_search = Grid_Search.best_score_\n",
    "print(\"\\n Résultats grid search  : \" + str(best_score_grid_search))\n",
    "\n",
    "\n",
    "\n",
    "opt = BayesSearchCV(clf,param_dict_bayes , n_iter=NB_ITER,cv=5,scoring = 'roc_auc')\n",
    "opt.fit(X_train, y_train)\n",
    "print(\" #### RECHERCHE OPTIMISATION #### \")\n",
    "print(\"\\n Paramètres grid search : \")\n",
    "best_param_opti_bayes =opt.best_params_\n",
    "print(best_param_opti_bayes)\n",
    "best_score_opti_bayes = opt.best_score_\n",
    "print(\"\\n Résultats grid search  : \" + str(best_score_opti_bayes))"
   ]
  },
  {
   "cell_type": "code",
   "execution_count": null,
   "id": "E0Zibiir7UlW",
   "metadata": {
    "colab": {
     "base_uri": "https://localhost:8080/",
     "height": 135
    },
    "id": "E0Zibiir7UlW",
    "outputId": "9781225d-090a-4d7f-a6e5-39e54c1b2d54"
   },
   "outputs": [],
   "source": [
    "tree = DecisionTreeClassifier(criterion='entropy',\n",
    "                              splitter='best',\n",
    "                              max_depth=10,\n",
    "                              min_samples_leaf=5,\n",
    "                              min_samples_split=2,\n",
    "                              min_weight_fraction_leaf=0,\n",
    "                              max_features='sqrt',\n",
    "                              random_state=42)\n",
    "\n",
    "tree.fit(X_train, y_train)"
   ]
  },
  {
   "cell_type": "code",
   "execution_count": null,
   "id": "VUeOo6AZ7gND",
   "metadata": {
    "colab": {
     "base_uri": "https://localhost:8080/"
    },
    "id": "VUeOo6AZ7gND",
    "outputId": "2d05720c-4680-4af7-8c3b-4e4974a466cc"
   },
   "outputs": [],
   "source": [
    "y_train_predict = tree.predict(X_train)\n",
    "print(y_train_predict)"
   ]
  },
  {
   "cell_type": "code",
   "execution_count": null,
   "id": "LG3NUDBp7lrO",
   "metadata": {
    "id": "LG3NUDBp7lrO"
   },
   "outputs": [],
   "source": [
    "y_test_predict = tree.predict(X_test)"
   ]
  },
  {
   "cell_type": "code",
   "execution_count": null,
   "id": "O02tlkYY7zy_",
   "metadata": {
    "colab": {
     "base_uri": "https://localhost:8080/"
    },
    "id": "O02tlkYY7zy_",
    "outputId": "59cc1e8c-07d3-4e6e-cdfc-894a018a9206"
   },
   "outputs": [],
   "source": [
    "y_train_predict_proba = tree.predict_proba(X_train)[:,1]\n",
    "print(y_train_predict_proba)\n",
    "y_test_predict_proba = tree.predict_proba(X_test)[:,1]"
   ]
  },
  {
   "cell_type": "code",
   "execution_count": null,
   "id": "ZjCki1En7zy_",
   "metadata": {
    "colab": {
     "base_uri": "https://localhost:8080/",
     "height": 605
    },
    "id": "ZjCki1En7zy_",
    "outputId": "5d3eb707-2b9b-4468-d3ec-7b983922abdb"
   },
   "outputs": [],
   "source": [
    "plt.figure(figsize=(100,100))\n",
    "plot_tree(tree, feature_names = var_continues,  max_depth=5, filled = True, fontsize=50)\n",
    "plt.show()"
   ]
  },
  {
   "cell_type": "code",
   "execution_count": null,
   "id": "lIHBkjEX7zzA",
   "metadata": {
    "colab": {
     "base_uri": "https://localhost:8080/",
     "height": 242
    },
    "id": "lIHBkjEX7zzA",
    "outputId": "c966dc83-bc31-42ae-9797-a18f8b3942d4"
   },
   "outputs": [],
   "source": [
    "# Importance des variables\n",
    "importance_variable = pd.DataFrame()\n",
    "importance_variable[\"Variable\"]= var_continues\n",
    "importance_variable[\"Feature Importance\"] = tree.feature_importances_\n",
    "importance_variable.sort_values(by = \"Feature Importance\", axis=0, ascending=False, inplace=True)\n",
    "\n",
    "print(\"Les 5 variables les plus importantes :\")\n",
    "importance_variable.head(5)"
   ]
  },
  {
   "cell_type": "code",
   "execution_count": null,
   "id": "p4Fuiywk7zzA",
   "metadata": {
    "colab": {
     "base_uri": "https://localhost:8080/",
     "height": 582
    },
    "id": "p4Fuiywk7zzA",
    "outputId": "ad5a5901-d7ea-4d47-ae48-df8357138a0d"
   },
   "outputs": [],
   "source": [
    "importance_variable"
   ]
  },
  {
   "cell_type": "markdown",
   "id": "TpGNHck77zzA",
   "metadata": {
    "id": "TpGNHck77zzA"
   },
   "source": [
    "#### Évaluation du modele :"
   ]
  },
  {
   "cell_type": "code",
   "execution_count": null,
   "id": "Fsadz2Z87zzA",
   "metadata": {
    "colab": {
     "base_uri": "https://localhost:8080/",
     "height": 472
    },
    "id": "Fsadz2Z87zzA",
    "outputId": "0c77b0ee-31e6-4826-a126-c4215c3d1851"
   },
   "outputs": [],
   "source": [
    "fpr_train, tpr_train, _ = roc_curve(y_train, y_train_predict_proba)\n",
    "roc_auc_train = auc(fpr_train, tpr_train)\n",
    "fpr_test, tpr_test, _ = roc_curve(y_test, y_test_predict_proba)\n",
    "roc_auc_test = auc(fpr_test, tpr_test)\n",
    "\n",
    "plt.figure()\n",
    "lw = 2\n",
    "plt.plot(fpr_train, tpr_train, color='darkorange',\n",
    "         lw=lw, label='Train - ROC curve (area = %0.2f)' % roc_auc_train)\n",
    "\n",
    "plt.plot(fpr_test, tpr_test, color='darkgreen',\n",
    "         lw=lw, label='Test - ROC curve (area = %0.2f)' % roc_auc_test)\n",
    "\n",
    "plt.plot([0, 1], [0, 1], color='navy', lw=lw, linestyle='--')\n",
    "plt.xlim([0.0, 1.0])\n",
    "plt.ylim([0.0, 1.05])\n",
    "plt.xlabel('False Positive Rate')\n",
    "plt.ylabel('True Positive Rate')\n",
    "plt.title('Comparaison courve ROC (TRAIN / TEST)')\n",
    "plt.legend(loc=\"lower right\")\n",
    "plt.show()\n"
   ]
  },
  {
   "cell_type": "code",
   "execution_count": null,
   "id": "sMqgWlgf7zzA",
   "metadata": {
    "colab": {
     "base_uri": "https://localhost:8080/"
    },
    "id": "sMqgWlgf7zzA",
    "outputId": "777a1868-8e77-4caa-e3bd-67f508dc3685"
   },
   "outputs": [],
   "source": [
    "print(\"log loss app : \" + str(log_loss(y_train, y_train_predict_proba)))\n",
    "print(\"log loss test : \" + str(log_loss(y_test, y_test_predict_proba)))"
   ]
  },
  {
   "cell_type": "code",
   "execution_count": null,
   "id": "2tGzn2Yk7zzB",
   "metadata": {
    "id": "2tGzn2Yk7zzB"
   },
   "outputs": [],
   "source": [
    "def metrics_score(actual, predicted):\n",
    "    print(classification_report(actual, predicted))\n",
    "\n",
    "    cm = confusion_matrix(actual, predicted)\n",
    "    plt.figure(figsize=(8,5))\n",
    "\n",
    "    sns.heatmap(cm, annot=True,  fmt='.2f', xticklabels=['Not Cancelled', 'Cancelled'], yticklabels=['Not Cancelled', 'Cancelled'])\n",
    "    plt.ylabel('Actual')\n",
    "    plt.xlabel('Predicted')\n",
    "    plt.show()"
   ]
  },
  {
   "cell_type": "code",
   "execution_count": null,
   "id": "4h4smnOF7zzB",
   "metadata": {
    "id": "4h4smnOF7zzB"
   },
   "outputs": [],
   "source": [
    "y_train_predict = tree.predict(X_train)\n",
    "y_test_predict = tree.predict(X_test)"
   ]
  },
  {
   "cell_type": "code",
   "execution_count": null,
   "id": "iu1aSuij7zzB",
   "metadata": {
    "colab": {
     "base_uri": "https://localhost:8080/",
     "height": 603
    },
    "id": "iu1aSuij7zzB",
    "outputId": "7ba2cc51-63ec-441a-f314-ba8827439d7e"
   },
   "outputs": [],
   "source": [
    "metrics_score(y_train, y_train_predict)"
   ]
  },
  {
   "cell_type": "code",
   "execution_count": null,
   "id": "mvlrknte7zzB",
   "metadata": {
    "colab": {
     "base_uri": "https://localhost:8080/",
     "height": 180
    },
    "id": "mvlrknte7zzB",
    "outputId": "f301172c-efac-4871-97e6-790ccf5c64fb"
   },
   "outputs": [],
   "source": [
    "metrics_score(y_test, y_test_predict)"
   ]
  },
  {
   "cell_type": "markdown",
   "id": "9abc5714",
   "metadata": {},
   "source": [
    "#### Seuils"
   ]
  },
  {
   "cell_type": "code",
   "execution_count": null,
   "id": "67f8f0b7",
   "metadata": {},
   "outputs": [],
   "source": [
    "#Choix du seuil \n",
    "precision_train, recall_train, thresholds_train = precision_recall_curve(y_train,\n",
    "                                                                         y_train_predict_proba)\n",
    "precision_test, recall_test, thresholds_test = precision_recall_curve(y_test,\n",
    "                                                                      y_test_predict_proba)\n",
    "table_choix_seuil = pd.DataFrame()\n",
    "table_choix_seuil[\"SEUIL\"] = [0] + list(thresholds_train)\n",
    "table_choix_seuil[\"Precision_train\"] = precision_train\n",
    "table_choix_seuil[\"Recall_train\"] = recall_train\n",
    "\n",
    "f1_scores = 2 * (precision_train * recall_train) / (precision_train + recall_train)\n",
    "table_choix_seuil[\"f1_scores\"] = f1_scores\n",
    "\n",
    "\n",
    "table_choix_seuil.sort_values(by = \"SEUIL\", axis=0, ascending=False, inplace=True)\n",
    "print(table_choix_seuil)"
   ]
  },
  {
   "cell_type": "code",
   "execution_count": null,
   "id": "e4c2cf5f",
   "metadata": {},
   "outputs": [],
   "source": [
    "max_f1_score_row = table_choix_seuil.loc[table_choix_seuil['f1_scores'].idxmax()]\n",
    "print(max_f1_score_row)"
   ]
  },
  {
   "cell_type": "code",
   "execution_count": null,
   "id": "d6c04aa9",
   "metadata": {},
   "outputs": [],
   "source": [
    "table_choix_seuil"
   ]
  },
  {
   "cell_type": "code",
   "execution_count": null,
   "id": "2bf6ae7a",
   "metadata": {},
   "outputs": [],
   "source": [
    "# seuil optimal \n",
    "y_proba = tree.predict_proba(X_test)[:, 1]\n",
    "y_pred = (y_proba >= 0.409).astype(int)"
   ]
  },
  {
   "cell_type": "code",
   "execution_count": null,
   "id": "ec69c76b",
   "metadata": {},
   "outputs": [],
   "source": [
    "metrics_score(y_test, y_test_predict)\n"
   ]
  },
  {
   "cell_type": "markdown",
   "id": "PySaEvlBgVE6",
   "metadata": {
    "id": "PySaEvlBgVE6"
   },
   "source": [
    "## Régression logistique"
   ]
  },
  {
   "cell_type": "markdown",
   "id": "KAox709miHf9",
   "metadata": {
    "id": "KAox709miHf9"
   },
   "source": [
    "### Model d'initialisation"
   ]
  },
  {
   "cell_type": "code",
   "execution_count": null,
   "id": "aab4c723",
   "metadata": {},
   "outputs": [],
   "source": [
    "regLog1 = LogisticRegression(max_iter=500, solver='lbfgs')\n",
    "regLog1.fit(X_train,y_train)\n",
    "\n",
    "y_train_predict_proba = regLog1.predict_proba(X_train)[:,1]\n",
    "y_test_predict_proba = regLog1.predict_proba(X_test)[:,1]"
   ]
  },
  {
   "cell_type": "code",
   "execution_count": null,
   "id": "s9T92wfnQKlc",
   "metadata": {
    "colab": {
     "base_uri": "https://localhost:8080/",
     "height": 472
    },
    "id": "s9T92wfnQKlc",
    "outputId": "11b6ea06-7e4e-4c2d-e7d2-83139b3afe35"
   },
   "outputs": [],
   "source": [
    "fpr_train, tpr_train, _ = roc_curve(y_train, y_train_predict_proba)\n",
    "roc_auc_train = auc(fpr_train, tpr_train)\n",
    "fpr_test, tpr_test, _ = roc_curve(y_test, y_test_predict_proba)\n",
    "roc_auc_test = auc(fpr_test, tpr_test)\n",
    "\n",
    "plt.figure()\n",
    "lw = 2\n",
    "plt.plot(fpr_train, tpr_train, color='darkorange',\n",
    "         lw=lw, label='Train - ROC curve (area = %0.2f)' % roc_auc_train)\n",
    "\n",
    "plt.plot(fpr_test, tpr_test, color='darkgreen',\n",
    "         lw=lw, label='Test - ROC curve (area = %0.2f)' % roc_auc_test)\n",
    "\n",
    "plt.plot([0, 1], [0, 1], color='navy', lw=lw, linestyle='--')\n",
    "plt.xlim([0.0, 1.0])\n",
    "plt.ylim([0.0, 1.05])\n",
    "plt.xlabel('False Positive Rate')\n",
    "plt.ylabel('True Positive Rate')\n",
    "plt.title('Comparaison courve ROC (TRAIN / TEST)')\n",
    "plt.legend(loc=\"lower right\")\n",
    "plt.show()"
   ]
  },
  {
   "cell_type": "code",
   "execution_count": null,
   "id": "r1zTY7aViSU5",
   "metadata": {
    "colab": {
     "base_uri": "https://localhost:8080/",
     "height": 609
    },
    "id": "r1zTY7aViSU5",
    "outputId": "2a306a8d-7731-4cf9-ea60-e22819ed607f"
   },
   "outputs": [],
   "source": [
    "y_predict = regLog1.predict(X_test)\n",
    "metrics_score(y_test, y_predict)"
   ]
  },
  {
   "cell_type": "code",
   "execution_count": null,
   "id": "9b0f19b1",
   "metadata": {},
   "outputs": [],
   "source": [
    "table_coeff = pd.DataFrame()\n",
    "table_coeff[\"Variable\"]=X_train.columns\n",
    "table_coeff[\"Coefficient\"] = regLog1.coef_[0]\n",
    "table_coeff[\"Odds Ratio\"] = np.exp(table_coeff[\"Coefficient\"])\n",
    "\n",
    "print(table_coeff.sort_values(by='Coefficient', key=abs, ascending=False))\n",
    "\n",
    "print(\"Intercept : \" + str(regLog1.intercept_))"
   ]
  },
  {
   "cell_type": "markdown",
   "id": "ZJwjE5TmG9eW",
   "metadata": {
    "id": "ZJwjE5TmG9eW"
   },
   "source": [
    "### Selection de variable avec Lasso"
   ]
  },
  {
   "cell_type": "code",
   "execution_count": null,
   "id": "e913a487",
   "metadata": {},
   "outputs": [],
   "source": [
    "alphas_lasso, coefs_lasso, _ = lasso_path(X_train.values, y_train)"
   ]
  },
  {
   "cell_type": "code",
   "execution_count": null,
   "id": "77060ac7",
   "metadata": {},
   "outputs": [],
   "source": [
    "feature_names = X_train.columns\n",
    "\n",
    "plt.figure(figsize=(12, 8))\n",
    "\n",
    "for i, coef in enumerate(coefs_lasso):\n",
    "    plt.plot(alphas_lasso, coef, label=feature_names[i])\n",
    "\n",
    "plt.xlabel('Alpha')\n",
    "plt.ylabel('Coefficients')\n",
    "plt.title('LASSO Path')\n",
    "plt.xscale('log')\n",
    "plt.gca().invert_xaxis()\n",
    "\n",
    "\n",
    "plt.legend(bbox_to_anchor=(1.05, 1), loc='upper left', fontsize='small')\n",
    "plt.tight_layout()\n",
    "\n",
    "plt.show()\n"
   ]
  },
  {
   "cell_type": "code",
   "execution_count": null,
   "id": "f1cc1ea0",
   "metadata": {},
   "outputs": [],
   "source": [
    "lasso_cv = LassoCV(alphas=np.logspace(-4, 0, 50), cv=5)\n",
    "lasso_cv.fit(X_train, y_train)\n"
   ]
  },
  {
   "cell_type": "code",
   "execution_count": null,
   "id": "a084dddc",
   "metadata": {},
   "outputs": [],
   "source": [
    "threshold = 0.01\n",
    "\n",
    "selected_features = X_train.columns[np.abs(lasso_cv.coef_) > threshold]\n",
    "coefficients = lasso_cv.coef_[np.abs(lasso_cv.coef_) > threshold]\n",
    "\n",
    "print(f\"Variables sélectionnées : {selected_features.tolist()}\")"
   ]
  },
  {
   "cell_type": "code",
   "execution_count": null,
   "id": "a2cddb2f",
   "metadata": {},
   "outputs": [],
   "source": [
    "selected_features = ['no_of_children', 'no_of_weekend_nights', 'no_of_week_nights', 'required_car_parking_space', 'lead_time', 'no_of_previous_cancellations', 'no_of_previous_bookings_not_canceled', 'avg_price_per_room', 'no_of_special_requests', 'lead_time_out', 'arrival_month_sin', 'arrival_month_cos', 'booking_status_%_type_of_meal_plan', 'booking_status_%_market_segment_type']\n",
    "X_train_lasso = X_train[selected_features]\n",
    "X_test_lasso = X_test[selected_features]"
   ]
  },
  {
   "cell_type": "code",
   "execution_count": null,
   "id": "34c3ac76",
   "metadata": {},
   "outputs": [],
   "source": [
    "coef_df = pd.Series(coefficients, index=selected_features).sort_values(key=abs, ascending=False)\n",
    "\n",
    "plt.figure(figsize=(8, 5))\n",
    "sns.barplot(x=coef_df.values, y=coef_df.index, palette=\"viridis\")\n",
    "plt.title(\"Importance des variables issues de la régression Lasso\")\n",
    "plt.xlabel(\"Coefficient\")\n",
    "plt.ylabel(\"Variables\")\n",
    "plt.axvline(0, color='gray', linestyle='--', lw=1)  # Ligne verticale pour séparer les coefficients positifs et négatifs\n",
    "plt.show()"
   ]
  },
  {
   "cell_type": "code",
   "execution_count": null,
   "id": "55c633fa",
   "metadata": {},
   "outputs": [],
   "source": [
    "regLog_lasso = LogisticRegression()\n",
    "regLog_lasso.fit(X_train_lasso, y_train)\n",
    "\n",
    "y_pred = regLog_lasso.predict(X_test_lasso)\n",
    "\n",
    "conf_matrix = confusion_matrix(y_test, y_pred)\n",
    "accuracy = accuracy_score(y_test, y_pred)\n",
    "class_report = classification_report(y_test, y_pred)\n",
    "\n",
    "metrics_score(y_test, y_pred)"
   ]
  },
  {
   "cell_type": "markdown",
   "id": "32b63977",
   "metadata": {},
   "source": [
    "### Sélection de variable par regression logistique statsmodels"
   ]
  },
  {
   "cell_type": "code",
   "execution_count": null,
   "id": "48b8be71",
   "metadata": {},
   "outputs": [],
   "source": [
    "X_train = X_train.reset_index(drop=True)\n",
    "y_train = y_train.reset_index(drop=True)"
   ]
  },
  {
   "cell_type": "code",
   "execution_count": null,
   "id": "4361cae4",
   "metadata": {},
   "outputs": [],
   "source": [
    "import statsmodels as sm\n",
    "\n",
    "from statsmodels.api import Logit\n",
    "\n",
    "X_train[\"const\"] =1\n",
    "X_test[\"const\"]=1 # pour ajouter l'intercept\n",
    "lr = Logit(endog=y_train,exog=X_train)\n",
    "\n",
    "reg = lr.fit()\n",
    "print(reg.summary())"
   ]
  },
  {
   "cell_type": "code",
   "execution_count": null,
   "id": "aa1fd052",
   "metadata": {},
   "outputs": [],
   "source": [
    "p_values = reg.pvalues"
   ]
  },
  {
   "cell_type": "code",
   "execution_count": null,
   "id": "ab5467bf",
   "metadata": {},
   "outputs": [],
   "source": [
    "variables_significatives = p_values[p_values < 0.05].index.tolist()\n",
    "variables_non_significatives = p_values[p_values >= 0.05].index.tolist()"
   ]
  },
  {
   "cell_type": "code",
   "execution_count": null,
   "id": "cb9d51f0",
   "metadata": {},
   "outputs": [],
   "source": [
    "variables_significatives"
   ]
  },
  {
   "cell_type": "code",
   "execution_count": null,
   "id": "06a95a79",
   "metadata": {},
   "outputs": [],
   "source": [
    "variables_non_significatives"
   ]
  },
  {
   "cell_type": "code",
   "execution_count": null,
   "id": "2c17c656",
   "metadata": {},
   "outputs": [],
   "source": [
    "X_train_sel = X_train[variables_significatives]\n",
    "X_test_sel = X_test[variables_significatives]"
   ]
  },
  {
   "cell_type": "code",
   "execution_count": null,
   "id": "2e63272c",
   "metadata": {},
   "outputs": [],
   "source": [
    "regLog_sel = LogisticRegression()\n",
    "regLog_sel.fit(X_train_sel, y_train)\n",
    "\n",
    "y_pred = regLog_sel.predict(X_test_sel)\n",
    "\n",
    "conf_matrix = confusion_matrix(y_test, y_pred)\n",
    "accuracy = accuracy_score(y_test, y_pred)\n",
    "class_report = classification_report(y_test, y_pred)\n",
    "\n",
    "metrics_score(y_test, y_pred)"
   ]
  },
  {
   "cell_type": "markdown",
   "id": "c9c98861",
   "metadata": {},
   "source": [
    "### Optimisation du modele par Grid Search et Poids"
   ]
  },
  {
   "cell_type": "code",
   "execution_count": null,
   "id": "0b62026d",
   "metadata": {},
   "outputs": [],
   "source": [
    "param_grid = {\n",
    "    'C': [0.001, 0.01, 0.1, 1, 10, 100],  # Regularization strength\n",
    "    'penalty': ['l1', 'l2'],  # Type de régularisation\n",
    "    'solver': ['liblinear']  # Solver adapté à l1/l2\n",
    "}\n",
    "\n",
    "log_reg = LogisticRegression(max_iter=500, random_state=42)\n",
    "\n",
    "grid_search = GridSearchCV(log_reg, param_grid, cv=5, scoring='accuracy', verbose=1)\n",
    "grid_search.fit(X_train_lasso, y_train)\n",
    "\n",
    "best_params = grid_search.best_params_\n",
    "print(f\"Best Params: {best_params}\")\n",
    "\n",
    "\n",
    "best_log_reg = grid_search.best_estimator_\n",
    "y_pred = best_log_reg.predict(X_test_lasso)\n"
   ]
  },
  {
   "cell_type": "code",
   "execution_count": null,
   "id": "5256f7c6",
   "metadata": {},
   "outputs": [],
   "source": [
    "metrics_score(y_test, y_pred)"
   ]
  },
  {
   "cell_type": "markdown",
   "id": "93dd2c6b",
   "metadata": {},
   "source": [
    "Ajouter des poids pour les classes pour mieux gerer le déséquilibre de classes"
   ]
  },
  {
   "cell_type": "code",
   "execution_count": null,
   "id": "4f83e329",
   "metadata": {},
   "outputs": [],
   "source": [
    "log_reg_balanced = LogisticRegression(\n",
    "    C=best_params['C'],\n",
    "    penalty=best_params['penalty'],\n",
    "    solver=best_params['solver'],\n",
    "    class_weight='balanced',\n",
    "    max_iter=500,\n",
    "    random_state=42\n",
    ")\n",
    "\n",
    "\n",
    "log_reg_balanced.fit(X_train_lasso, y_train)\n",
    "\n",
    "y_pred_balanced = log_reg_balanced.predict(X_test_lasso)\n"
   ]
  },
  {
   "cell_type": "code",
   "execution_count": null,
   "id": "57442b7c",
   "metadata": {},
   "outputs": [],
   "source": [
    "metrics_score(y_test, y_pred_balanced)"
   ]
  },
  {
   "cell_type": "markdown",
   "id": "4k3XGD1RoR8x",
   "metadata": {
    "id": "4k3XGD1RoR8x"
   },
   "source": [
    "## XGBoost"
   ]
  },
  {
   "cell_type": "code",
   "execution_count": null,
   "id": "df77f93d-63a1-47d5-b6fe-dfd6704906af",
   "metadata": {},
   "outputs": [],
   "source": [
    "from xgboost import XGBClassifier"
   ]
  },
  {
   "cell_type": "markdown",
   "id": "3b2f76b0",
   "metadata": {},
   "source": [
    "### Modèle d'initialisation "
   ]
  },
  {
   "cell_type": "code",
   "execution_count": null,
   "id": "f8a31b46",
   "metadata": {},
   "outputs": [],
   "source": [
    "xgb_model = XGBClassifier(\n",
    "                objective=\"multi:softmax\",\n",
    "                num_class=2,\n",
    "                booster=\"gbtree\",\n",
    "                eval_metric=\"mlogloss\"\n",
    ")"
   ]
  },
  {
   "cell_type": "code",
   "execution_count": null,
   "id": "c047f4b1",
   "metadata": {},
   "outputs": [],
   "source": [
    "xgb_model.fit(X_train, y_train)"
   ]
  },
  {
   "cell_type": "code",
   "execution_count": null,
   "id": "700c4912",
   "metadata": {},
   "outputs": [],
   "source": [
    "y_pred_proba = xgb_model.predict_proba(X_test)"
   ]
  },
  {
   "cell_type": "code",
   "execution_count": null,
   "id": "c152d966",
   "metadata": {},
   "outputs": [],
   "source": [
    "initial_log_loss = log_loss(y_test, y_pred_proba)\n",
    "print(\"Log Loss initiale :\", initial_log_loss)"
   ]
  },
  {
   "cell_type": "code",
   "execution_count": null,
   "id": "b5d7ed0c",
   "metadata": {},
   "outputs": [],
   "source": [
    "y_pred = xgb_model.predict(X_test)"
   ]
  },
  {
   "cell_type": "code",
   "execution_count": null,
   "id": "48e32f49",
   "metadata": {},
   "outputs": [],
   "source": [
    "metrics_score(y_test, y_pred)"
   ]
  },
  {
   "cell_type": "markdown",
   "id": "df063fb7",
   "metadata": {},
   "source": [
    "### Optimisation du modèle"
   ]
  },
  {
   "cell_type": "markdown",
   "id": "38068628",
   "metadata": {},
   "source": [
    "#### Optimisation du modèle par GridSearch"
   ]
  },
  {
   "cell_type": "code",
   "execution_count": null,
   "id": "640b1318",
   "metadata": {},
   "outputs": [],
   "source": [
    "params = {\n",
    "    'n_estimators': [100, 200, 300, 500],\n",
    "    'max_depth': [3, 5, 7, 10],\n",
    "    'learning_rate': [0.01, 0.05, 0.1, 0.2],\n",
    "    'subsample': [0.6, 0.7, 0.8, 1.0],\n",
    "    'colsample_bytree': [0.6, 0.7, 0.8, 1.0],\n",
    "    'gamma': [0, 0.1, 0.2, 0.5],\n",
    "    'min_child_weight': [1, 3, 5, 7]\n",
    "}\n",
    "\n",
    "#random_search = RandomizedSearchCV(\n",
    "#    XGBClassifier(objective=\"multi:softmax\", num_class=2, eval_metric=\"mlogloss\", random_state=42),\n",
    "#    param_distributions=params,\n",
    "#    n_iter=30,\n",
    "#    scoring='f1_weighted',\n",
    "#    cv=5,\n",
    "#    verbose=1,\n",
    "#    n_jobs=-1,\n",
    "#    random_state=42\n",
    "#)\n",
    "\n",
    "#random_search.fit(X_train, y_train)\n",
    "\n",
    "print(\"Best parameters:\", random_search.best_params_)\n",
    "print(\"Best accuracy:\", random_search.best_score_)\n"
   ]
  },
  {
   "cell_type": "code",
   "execution_count": null,
   "id": "5b226726",
   "metadata": {},
   "outputs": [],
   "source": [
    "#Best model\n",
    "optimized_xgb = XGBClassifier(\n",
    "    objective=\"multi:softmax\",\n",
    "    num_class=2,\n",
    "    eval_metric=\"mlogloss\",\n",
    "    subsample=0.8,\n",
    "    n_estimators=300,\n",
    "    min_child_weight=1,\n",
    "    max_depth=10,\n",
    "    learning_rate=0.05,\n",
    "    gamma=0.1,\n",
    "    colsample_bytree=0.7,\n",
    "    random_state=42,\n",
    "    use_label_encoder=False\n",
    ")\n",
    "\n",
    "\n",
    "optimized_xgb.fit(X_train, y_train)\n",
    "\n",
    "y_pred = optimized_xgb.predict(X_test)\n",
    "metrics_score(y_test, y_pred)\n"
   ]
  },
  {
   "cell_type": "code",
   "execution_count": null,
   "id": "e985a8e9-4e1f-463b-95b6-e7dab9155f8f",
   "metadata": {},
   "outputs": [],
   "source": [
    "fig, axes = plt.subplots(1, 2, figsize=(18, 6))  # 1 ligne, 2 colonnes\n",
    "\n",
    "# Premier graphique : importance selon le 'gain'\n",
    "plot_importance(optimized_xgb, ax=axes[0], importance_type='gain')\n",
    "axes[0].set_title(\"Importance des caractéristiques (Gain)\")\n",
    "\n",
    "# Deuxième graphique : importance selon le 'weight'\n",
    "plot_importance(optimized_xgb, ax=axes[1], importance_type='weight')\n",
    "axes[1].set_title(\"Importance des caractéristiques (Weight)\")\n",
    "\n",
    "# Ajuster l'espace entre les graphiques\n",
    "plt.tight_layout()\n",
    "plt.show()"
   ]
  },
  {
   "cell_type": "code",
   "execution_count": null,
   "id": "f25f7b65-92ce-4ad1-a1b6-fefbda921e75",
   "metadata": {},
   "outputs": [],
   "source": [
    "import shap\n",
    "shap.initjs()"
   ]
  },
  {
   "cell_type": "code",
   "execution_count": null,
   "id": "a2774ccb-5abd-4dc8-bccc-18ee8ac45eab",
   "metadata": {},
   "outputs": [],
   "source": [
    "explainer = shap.TreeExplainer(optimized_xgb)  \n",
    "shap_values = explainer.shap_values(X_test)"
   ]
  },
  {
   "cell_type": "code",
   "execution_count": null,
   "id": "22569ab8-5cc5-4843-84cd-b129db96a1ba",
   "metadata": {},
   "outputs": [],
   "source": [
    "classe_index = 1  # Classe positive\n",
    "observation_index = 0  # Première observation\n",
    "\n",
    "# Correction de force_plot\n",
    "shap.force_plot(\n",
    "    explainer.expected_value[classe_index],  # Base value pour la classe 1\n",
    "    shap_values[observation_index, :, classe_index],  # SHAP values pour cette observation et classe\n",
    "    X_test.iloc[observation_index]  # Caractéristiques de l'observation\n",
    ")"
   ]
  },
  {
   "cell_type": "code",
   "execution_count": null,
   "id": "07d7293b-6380-4252-ae3d-157f795fb563",
   "metadata": {},
   "outputs": [],
   "source": [
    "shap.summary_plot(shap_values[..., 1], X_test)  # Classe positive (1)"
   ]
  },
  {
   "cell_type": "markdown",
   "id": "6d1a062b",
   "metadata": {},
   "source": [
    "#### Optimisation du modèle avec Optuna"
   ]
  },
  {
   "cell_type": "code",
   "execution_count": null,
   "id": "ea34a38d",
   "metadata": {},
   "outputs": [],
   "source": [
    "def objective(trial):\n",
    "    selected_features = trial.suggest_categorical('features', [list(X.columns)])\n",
    "    X_train_selected = X_train[selected_features]\n",
    "    X_test_selected = X_test[selected_features]\n",
    "    \n",
    "    param = {\n",
    "        'objective': 'multi:softmax',\n",
    "        'num_class': 2,\n",
    "        'booster': 'gbtree',\n",
    "        'eval_metric': 'mlogloss',\n",
    "        'n_estimators': trial.suggest_int('n_estimators', 50, 1000),\n",
    "        'max_depth': trial.suggest_int('max_depth', 3, 30),\n",
    "        'learning_rate': trial.suggest_float('learning_rate', 0.01, 0.1),\n",
    "        'min_child_weight': trial.suggest_int('min_child_weight', 1, 15),\n",
    "        'subsample': trial.suggest_float('subsample', 0.5, 1.0),\n",
    "        'colsample_bytree': trial.suggest_float('colsample_bytree', 0.01, 1.0),\n",
    "        'reg_alpha': trial.suggest_float('reg_alpha', 0.0, 1),\n",
    "        'reg_lambda': trial.suggest_float('reg_lambda', 0.0, 10)\n",
    "    }\n",
    "\n",
    "    mod = XGBClassifier(**param, random_state=42)\n",
    "    scores = cross_validate(mod, X_train_selected, y_train, cv=3, scoring='accuracy')\n",
    "\n",
    "    return np.mean(scores['test_score'])  # Fixed line\n",
    "\n",
    "study = optuna.create_study(direction='maximize')\n",
    "study.optimize(objective, n_trials=50)\n",
    "\n",
    "print(\"Meilleurs paramètres:\", study.best_params)\n"
   ]
  },
  {
   "cell_type": "code",
   "execution_count": null,
   "id": "f153db74",
   "metadata": {},
   "outputs": [],
   "source": [
    "xgb_tunned = XGBClassifier(\n",
    "                objective=\"multi:softmax\",\n",
    "                num_class=2,\n",
    "                booster=\"gbtree\",\n",
    "                eval_metric=\"mlogloss\",\n",
    "                n_estimators=876,\n",
    "                max_depth=14,\n",
    "                learning_rate=0.012036591105960953,\n",
    "                min_child_weight=1,\n",
    "                subsample=0.9303558848762992,\n",
    "                colsample_bytree=0.7479507299406605,\n",
    "                reg_alpha=0.022053370844735434,\n",
    "                reg_lambda=7.723870704304475,\n",
    "                random_state=42\n",
    "            )"
   ]
  },
  {
   "cell_type": "code",
   "execution_count": null,
   "id": "e073181b",
   "metadata": {},
   "outputs": [],
   "source": [
    "xgb_tunned.fit(X_train, y_train)"
   ]
  },
  {
   "cell_type": "code",
   "execution_count": null,
   "id": "971d4129",
   "metadata": {},
   "outputs": [],
   "source": [
    "y_pred_proba = xgb_tunned.predict_proba(X_test)"
   ]
  },
  {
   "cell_type": "code",
   "execution_count": null,
   "id": "0d22158c",
   "metadata": {},
   "outputs": [],
   "source": [
    "final_log_loss = log_loss(y_test, y_pred_proba)\n",
    "print(\"Log Loss finale :\", final_log_loss)"
   ]
  },
  {
   "cell_type": "code",
   "execution_count": null,
   "id": "e3b79cee",
   "metadata": {},
   "outputs": [],
   "source": [
    "y_pred = xgb_tunned.predict(X_test)"
   ]
  },
  {
   "cell_type": "code",
   "execution_count": null,
   "id": "fe227d9a",
   "metadata": {},
   "outputs": [],
   "source": [
    "metrics_score(y_test, y_pred)"
   ]
  },
  {
   "cell_type": "code",
   "execution_count": null,
   "id": "0a3120e9-54e2-49f1-a0bc-27ce5bc582a1",
   "metadata": {},
   "outputs": [],
   "source": []
  }
 ],
 "metadata": {
  "colab": {
   "provenance": []
  },
  "kernelspec": {
   "display_name": "Python 3",
   "language": "python",
   "name": "python3"
  },
  "language_info": {
   "codemirror_mode": {
    "name": "ipython",
    "version": 3
   },
   "file_extension": ".py",
   "mimetype": "text/x-python",
   "name": "python",
   "nbconvert_exporter": "python",
   "pygments_lexer": "ipython3",
   "version": "3.12.8"
  }
 },
 "nbformat": 4,
 "nbformat_minor": 5
}
